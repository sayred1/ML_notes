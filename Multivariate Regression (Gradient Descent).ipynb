{
 "cells": [
  {
   "cell_type": "markdown",
   "metadata": {},
   "source": [
    "# Multivariate Linear Regression Using Gradient Descent\n",
    "\n",
    "## Attribute Information\n",
    "\n",
    "### This problem has the following inputs: \n",
    "1. Frequency, in Hertzs. \n",
    "2. Angle of attack, in degrees. \n",
    "3. Chord length, in meters. \n",
    "4. Free-stream velocity, in meters per second. \n",
    "5. Suction side displacement thickness, in meters. \n",
    "\n",
    "### Output: \n",
    "6. Scaled sound pressure level, in decibels. "
   ]
  },
  {
   "cell_type": "code",
   "execution_count": 31,
   "metadata": {},
   "outputs": [],
   "source": [
    "# explain data more\n",
    "\n",
    "import numpy as np\n",
    "import matplotlib.pyplot as plt\n",
    "from numpy.linalg import inv\n",
    "%matplotlib inline\n",
    "\n",
    "num_train_examples = 1502\n",
    "train_input = np.loadtxt('airfoil_self_noise.dat',float,usecols=(0,1,2,3,4))[0:num_train_examples]\n",
    "train_output = np.loadtxt('airfoil_self_noise.dat',float,usecols=(5))[0:num_train_examples]"
   ]
  },
  {
   "cell_type": "code",
   "execution_count": 32,
   "metadata": {},
   "outputs": [],
   "source": [
    "test_input = np.loadtxt('airfoil_self_noise.dat',float,usecols=(0,1,2,3,4))[-1]\n",
    "test_output = np.loadtxt('airfoil_self_noise.dat',float,usecols=(5))[-1]"
   ]
  },
  {
   "cell_type": "code",
   "execution_count": 33,
   "metadata": {},
   "outputs": [],
   "source": [
    "# normalize inputs\n",
    "\n",
    "mean_frq = np.mean(train_input[0:,:1])\n",
    "mean_ang = np.mean(train_input[0:,1:2])\n",
    "mean_len = np.mean(train_input[0:,2:3])\n",
    "mean_vel = np.mean(train_input[0:,3:4])\n",
    "mean_thk = np.mean(train_input[0:,4:])\n",
    "\n",
    "frq_std = np.std(train_input[0:,:1])\n",
    "ang_std = np.std(train_input[0:,1:2])\n",
    "len_std = np.std(train_input[0:,2:3])\n",
    "vel_std = np.std(train_input[0:,3:4])\n",
    "thk_std = np.std(train_input[0:,4:])\n",
    "\n",
    "train_input[0:,:1] = (train_input[0:,:1]-mean_frq)/frq_std\n",
    "train_input[0:,1:2] = (train_input[0:,1:2]-mean_ang)/ang_std\n",
    "train_input[0:,2:3] = (train_input[0:,2:3]-mean_len)/len_std\n",
    "train_input[0:,3:4] = (train_input[0:,3:4]-mean_vel)/vel_std\n",
    "train_input[0:,4:] = (train_input[0:,4:]-mean_thk)/thk_std\n",
    "\n",
    "# normalize test data\n",
    "test_input = np.array(test_input)\n",
    "test_input[0] = (test_input[0]-mean_frq)/frq_std\n",
    "test_input[1] = (test_input[1]-mean_ang)/ang_std\n",
    "test_input[2] = (test_input[2]-mean_len)/len_std\n",
    "test_input[3] = (test_input[3]-mean_vel)/vel_std\n",
    "test_input[4] = (test_input[4]-mean_thk)/thk_std"
   ]
  },
  {
   "cell_type": "code",
   "execution_count": 34,
   "metadata": {},
   "outputs": [],
   "source": [
    "def update_w_and_b(x,y,w,b,alpha):\n",
    "    num_examples = x.shape[0]                          \n",
    "    num_feat = x.shape[1]                             \n",
    "    \n",
    "    # obtain gradients\n",
    "    # derivatives of loss func. with respect to weights and bias\n",
    "    dl_dw = np.zeros((num_examples,num_feat)) \n",
    "    dl_db = np.zeros(num_examples)            \n",
    "    for i in range(num_examples):\n",
    "        for j in range(num_feat): \n",
    "            dl_dw[i,j] += -2*x[i,j]*(y[i]-(w[i,j]*x[i,j]+b[i])) \n",
    "            dl_db[i] += -2*(y[i]-(w[i,j]*x[i,j]+b[i]))  \n",
    "    \n",
    "    # update weights and bias based off of derivatives\n",
    "    for i in range(num_examples):\n",
    "        for j in range(num_feat):\n",
    "            w[i,j] = w[i,j] - (1/float(num_feat))*alpha*dl_dw[i,j]  \n",
    "        b[i] = b[i] - (1/float(num_feat))*alpha*dl_db[i]\n",
    "    return w,b\n",
    "\n",
    "def hypothesis(x,w,b):\n",
    "    n = x.shape[0]\n",
    "    h = 0\n",
    "    for i in range(n):\n",
    "        h += x[i]*w[i]\n",
    "    return(h+b)\n",
    "        \n",
    "def avg_loss(x,y,w,b): \n",
    "    num_examples = x.shape[0]\n",
    "    loss = 0\n",
    "    for i in range(num_examples):\n",
    "        h = hypothesis(x[i,],w[i,],b[i])\n",
    "        loss += (1/(2*num_examples))*(h-y[i])**2 # test parameters\n",
    "        return(loss,h)\n",
    "\n",
    "def train(x,y,w,b,alpha,epochs):\n",
    "    for epoch in range(epochs+1):\n",
    "        w,b= update_w_and_b(x,y,w,b,alpha)\n",
    "        if epoch % 50 == 0:\n",
    "            loss, h = avg_loss(x,y,w,b)\n",
    "            print('epoch: %s, loss: %s' %(epoch,loss)) \n",
    "            plt.xlabel('epoch')\n",
    "            plt.ylabel('loss')\n",
    "            plt.plot(epoch, loss,'bo')\n",
    "    plt.show()\n",
    "    return(w,b)"
   ]
  },
  {
   "cell_type": "code",
   "execution_count": 35,
   "metadata": {},
   "outputs": [
    {
     "name": "stdout",
     "output_type": "stream",
     "text": [
      "epoch: 0, loss: 5.286414205089769\n",
      "epoch: 50, loss: 4.559138631968373\n",
      "epoch: 100, loss: 3.9118377315976303\n",
      "epoch: 150, loss: 3.337293975783899\n",
      "epoch: 200, loss: 2.828891295542851\n",
      "epoch: 250, loss: 2.38056679099925\n",
      "epoch: 300, loss: 1.9867662459376336\n",
      "epoch: 350, loss: 1.6424031502447622\n",
      "epoch: 400, loss: 1.3428209565035414\n",
      "epoch: 450, loss: 1.0837583182371298\n",
      "epoch: 500, loss: 0.8613170768983679\n",
      "epoch: 550, loss: 0.6719327827803493\n",
      "epoch: 600, loss: 0.5123475517059164\n",
      "epoch: 650, loss: 0.3795850747450772\n",
      "epoch: 700, loss: 0.2709276124094479\n",
      "epoch: 750, loss: 0.18389481787385234\n",
      "epoch: 800, loss: 0.11622424586198589\n",
      "epoch: 850, loss: 0.06585341498396224\n",
      "epoch: 900, loss: 0.030903301600859318\n",
      "epoch: 950, loss: 0.009663152781785705\n",
      "epoch: 1000, loss: 0.0005765146741327774\n"
     ]
    },
    {
     "data": {
      "image/png": "[encoded data removed]",
      "text/plain": [
       "<Figure size 432x288 with 1 Axes>"
      ]
     },
     "metadata": {
      "needs_background": "light"
     },
     "output_type": "display_data"
    }
   ],
   "source": [
    "weights = np.zeros(train_input.shape)\n",
    "biases = np.zeros(num_train_examples)\n",
    "w,b = train(train_input,train_output,weights,biases,0.0003,1000)"
   ]
  },
  {
   "cell_type": "code",
   "execution_count": 7,
   "metadata": {},
   "outputs": [
    {
     "name": "stdout",
     "output_type": "stream",
     "text": [
      "epoch: 0, loss: 5.286414205089769\n",
      "epoch: 50, loss: 4.559138631968373\n",
      "epoch: 100, loss: 3.9118377315976303\n",
      "epoch: 150, loss: 3.337293975783899\n",
      "epoch: 200, loss: 2.828891295542851\n",
      "epoch: 250, loss: 2.38056679099925\n",
      "epoch: 300, loss: 1.9867662459376336\n",
      "epoch: 350, loss: 1.6424031502447622\n",
      "epoch: 400, loss: 1.3428209565035414\n",
      "epoch: 450, loss: 1.0837583182371298\n",
      "epoch: 500, loss: 0.8613170768983679\n",
      "epoch: 550, loss: 0.6719327827803493\n",
      "epoch: 600, loss: 0.5123475517059164\n",
      "epoch: 650, loss: 0.3795850747450772\n",
      "epoch: 700, loss: 0.2709276124094479\n",
      "epoch: 750, loss: 0.18389481787385234\n",
      "epoch: 800, loss: 0.11622424586198589\n",
      "epoch: 850, loss: 0.06585341498396224\n",
      "epoch: 900, loss: 0.030903301600859318\n",
      "epoch: 950, loss: 0.009663152781785705\n",
      "epoch: 1000, loss: 0.0005765146741327774\n",
      "epoch: 1050, loss: 0.0022283806842782056\n",
      "epoch: 1100, loss: 0.01333337131658734\n",
      "epoch: 1150, loss: 0.03272486439147154\n",
      "epoch: 1200, loss: 0.05934500070316819\n",
      "epoch: 1250, loss: 0.09223549602601191\n",
      "epoch: 1300, loss: 0.13052919577232291\n",
      "epoch: 1350, loss: 0.17344231358069023\n",
      "epoch: 1400, loss: 0.22026729970284695\n",
      "epoch: 1450, loss: 0.2703662892902741\n",
      "epoch: 1500, loss: 0.3231650845858782\n"
     ]
    },
    {
     "data": {
      "image/png": "[encoded data removed]",
      "text/plain": [
       "<Figure size 432x288 with 1 Axes>"
      ]
     },
     "metadata": {
      "needs_background": "light"
     },
     "output_type": "display_data"
    }
   ],
   "source": [
    "weights = np.zeros(train_input.shape)\n",
    "biases = np.zeros(num_train_examples)\n",
    "w,b = train(train_input,train_output,weights,biases,0.0003,1500)"
   ]
  },
  {
   "cell_type": "code",
   "execution_count": null,
   "metadata": {},
   "outputs": [],
   "source": []
  }
 ],
 "metadata": {
  "kernelspec": {
   "display_name": "Python 3",
   "language": "python",
   "name": "python3"
  },
  "language_info": {
   "codemirror_mode": {
    "name": "ipython",
    "version": 3
   },
   "file_extension": ".py",
   "mimetype": "text/x-python",
   "name": "python",
   "nbconvert_exporter": "python",
   "pygments_lexer": "ipython3",
   "version": "3.7.1"
  }
 },
 "nbformat": 4,
 "nbformat_minor": 2
}
