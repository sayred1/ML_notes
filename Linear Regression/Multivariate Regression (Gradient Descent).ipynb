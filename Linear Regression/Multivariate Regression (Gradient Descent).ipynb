{
 "cells": [
  {
   "cell_type": "markdown",
   "metadata": {},
   "source": [
    "# Multivariate Linear Regression Using Gradient Descent\n",
    "\n",
    "## Attribute Information\n",
    "\n",
    "### This problem has the following inputs: \n",
    "1. Frequency, in Hertzs. \n",
    "2. Angle of attack, in degrees. \n",
    "3. Chord length, in meters. \n",
    "4. Free-stream velocity, in meters per second. \n",
    "5. Suction side displacement thickness, in meters. \n",
    "\n",
    "### Predicts: \n",
    "6. Scaled sound pressure level, in decibels. \n",
    "    - ratio of the absolute, Sound Pressure and a reference level (usually the Threshold of Hearing)"
   ]
  },
  {
   "cell_type": "code",
   "execution_count": 1,
   "metadata": {},
   "outputs": [],
   "source": [
    "import numpy as np\n",
    "import matplotlib.pyplot as plt\n",
    "from numpy.linalg import inv\n",
    "%matplotlib inline\n",
    "\n",
    "num_train_examples = 1502\n",
    "train_input = np.loadtxt('airfoil_self_noise.dat',float,usecols=(0,1,2,3,4))[0:num_train_examples]\n",
    "train_output = np.loadtxt('airfoil_self_noise.dat',float,usecols=(5))[0:num_train_examples]"
   ]
  },
  {
   "cell_type": "code",
   "execution_count": 2,
   "metadata": {},
   "outputs": [],
   "source": [
    "test_input = np.loadtxt('airfoil_self_noise.dat',float,usecols=(0,1,2,3,4))[-1]\n",
    "test_output = np.loadtxt('airfoil_self_noise.dat',float,usecols=(5))[-1]"
   ]
  },
  {
   "cell_type": "code",
   "execution_count": 3,
   "metadata": {},
   "outputs": [],
   "source": [
    "# normalize inputs\n",
    "\n",
    "mean_frq = np.mean(train_input[0:,:1])\n",
    "mean_ang = np.mean(train_input[0:,1:2])\n",
    "mean_len = np.mean(train_input[0:,2:3])\n",
    "mean_vel = np.mean(train_input[0:,3:4])\n",
    "mean_thk = np.mean(train_input[0:,4:])\n",
    "\n",
    "frq_std = np.std(train_input[0:,:1])\n",
    "ang_std = np.std(train_input[0:,1:2])\n",
    "len_std = np.std(train_input[0:,2:3])\n",
    "vel_std = np.std(train_input[0:,3:4])\n",
    "thk_std = np.std(train_input[0:,4:])\n",
    "\n",
    "train_input[0:,:1] = (train_input[0:,:1]-mean_frq)/frq_std\n",
    "train_input[0:,1:2] = (train_input[0:,1:2]-mean_ang)/ang_std\n",
    "train_input[0:,2:3] = (train_input[0:,2:3]-mean_len)/len_std\n",
    "train_input[0:,3:4] = (train_input[0:,3:4]-mean_vel)/vel_std\n",
    "train_input[0:,4:] = (train_input[0:,4:]-mean_thk)/thk_std\n",
    "\n",
    "# normalize test data\n",
    "test_input = np.array(test_input)\n",
    "test_input[0] = (test_input[0]-mean_frq)/frq_std\n",
    "test_input[1] = (test_input[1]-mean_ang)/ang_std\n",
    "test_input[2] = (test_input[2]-mean_len)/len_std\n",
    "test_input[3] = (test_input[3]-mean_vel)/vel_std\n",
    "test_input[4] = (test_input[4]-mean_thk)/thk_std"
   ]
  },
  {
   "cell_type": "code",
   "execution_count": 4,
   "metadata": {},
   "outputs": [],
   "source": [
    "def update_w_and_b(x,y,w,b,alpha):\n",
    "    num_examples = x.shape[0]                          \n",
    "    num_feat = x.shape[1]                             \n",
    "    \n",
    "    \"\"\"\n",
    "    Gradient Descent: \n",
    "        Derivatives of loss function with respect to weights and bias\n",
    "        Update weights and bias\n",
    "            \n",
    "    \"\"\"\n",
    "    wgrad = np.zeros((5))\n",
    "    bgrad = np.zeros((1))\n",
    "    \n",
    "    \n",
    "    for i in range(num_examples):\n",
    "        wgrad += -x[i,:]*(y[i]-(np.dot(w,x[i,:])+b))/2\n",
    "        bgrad += -(y[i]-(np.dot(w,x[i,:])+b))/2\n",
    "        \n",
    "    w += - (1/float(num_feat))*alpha*wgrad\n",
    "    b += - (1/float(num_feat))*alpha*bgrad\n",
    "    return w,b\n",
    "\n",
    "def hypothesis(x,w,b):\n",
    "    h = np.dot(x,w)+b\n",
    "    return(h)\n",
    "        \n",
    "def avg_loss(x,y,w,b): \n",
    "    m = x.shape[0]\n",
    "    theta = np.insert(w,0,b)\n",
    "    x = np.insert(x,0,1.,axis=1)\n",
    "    hypothesis = np.dot(x,theta)\n",
    "    return (hypothesis,(1/(2.0*m))*((np.square(hypothesis-y)).sum(axis=0)))\n",
    "\n",
    "def train(x,y,w,b,alpha,epochs):\n",
    "    for epoch in range(epochs+1):\n",
    "        w,b= update_w_and_b(x,y,w,b,alpha)\n",
    "        if epoch % 10 == 0:\n",
    "            h,loss = avg_loss(x,y,w,b)\n",
    "            print('epoch: %s, loss: %s' %(epoch,loss)) \n",
    "            plt.xlabel('epoch')\n",
    "            plt.ylabel('loss')\n",
    "            plt.plot(epoch, loss,'bo')\n",
    "    plt.show()\n",
    "    return(w,b)"
   ]
  },
  {
   "cell_type": "code",
   "execution_count": 5,
   "metadata": {},
   "outputs": [
    {
     "name": "stdout",
     "output_type": "stream",
     "text": [
      "epoch: 0, loss: 7464.125623124243\n",
      "epoch: 10, loss: 5518.721022935487\n",
      "epoch: 20, loss: 4081.227784031447\n",
      "epoch: 30, loss: 3019.024533758133\n",
      "epoch: 40, loss: 2234.1217143836634\n",
      "epoch: 50, loss: 1654.117386659547\n",
      "epoch: 60, loss: 1225.515154721349\n",
      "epoch: 70, loss: 908.7872100376309\n",
      "epoch: 80, loss: 674.7266885359106\n",
      "epoch: 90, loss: 501.75260364730366\n",
      "epoch: 100, loss: 373.9185752190242\n",
      "epoch: 110, loss: 279.44155259127547\n",
      "epoch: 120, loss: 209.61473469529543\n",
      "epoch: 130, loss: 158.00435571366577\n",
      "epoch: 140, loss: 119.85620735830267\n",
      "epoch: 150, loss: 91.65712787340048\n",
      "epoch: 160, loss: 70.81099096807606\n",
      "epoch: 170, loss: 55.39929556969917\n",
      "epoch: 180, loss: 44.00426516234391\n",
      "epoch: 190, loss: 35.57813431042623\n",
      "epoch: 200, loss: 29.346562285078033\n",
      "epoch: 210, loss: 24.737262948719348\n",
      "epoch: 220, loss: 21.327266896503865\n",
      "epoch: 230, loss: 18.803951070425956\n",
      "epoch: 240, loss: 16.936241332804034\n",
      "epoch: 250, loss: 15.553332050320622\n",
      "epoch: 260, loss: 14.528960220098648\n",
      "epoch: 270, loss: 13.769784066315966\n",
      "epoch: 280, loss: 13.20679463684126\n",
      "epoch: 290, loss: 12.788968672733382\n",
      "epoch: 300, loss: 12.478577723715263\n",
      "epoch: 310, loss: 12.247721213244883\n",
      "epoch: 320, loss: 12.075764010158133\n",
      "epoch: 330, loss: 11.947442452590174\n",
      "epoch: 340, loss: 11.851464387514113\n",
      "epoch: 350, loss: 11.779474320302755\n",
      "epoch: 360, loss: 11.72528841339812\n",
      "epoch: 370, loss: 11.684328934899492\n",
      "epoch: 380, loss: 11.65320612974204\n",
      "epoch: 390, loss: 11.629409062479814\n",
      "epoch: 400, loss: 11.611077013456521\n",
      "epoch: 410, loss: 11.59683042441784\n",
      "epoch: 420, loss: 11.585645868933552\n",
      "epoch: 430, loss: 11.576763572444499\n",
      "epoch: 440, loss: 11.569618999548885\n",
      "epoch: 450, loss: 11.563792238084107\n",
      "epoch: 460, loss: 11.558970544437276\n",
      "epoch: 470, loss: 11.5549206229254\n",
      "epoch: 480, loss: 11.551468105311146\n",
      "epoch: 490, loss: 11.548482356801056\n",
      "epoch: 500, loss: 11.545865222985494\n"
     ]
    },
    {
     "data": {
      "image/png": "[encoded data removed]",
      "text/plain": [
       "<Figure size 432x288 with 1 Axes>"
      ]
     },
     "metadata": {
      "needs_background": "light"
     },
     "output_type": "display_data"
    }
   ],
   "source": [
    "weights = np.zeros(train_input.shape[1])\n",
    "biases = np.ones((1))\n",
    "w,b = train(train_input,train_output,weights,biases,0.0001,500)"
   ]
  },
  {
   "cell_type": "code",
   "execution_count": 6,
   "metadata": {},
   "outputs": [
    {
     "data": {
      "image/png": "[encoded data removed]",
      "text/plain": [
       "<Figure size 432x288 with 1 Axes>"
      ]
     },
     "metadata": {
      "needs_background": "light"
     },
     "output_type": "display_data"
    }
   ],
   "source": [
    "import matplotlib.pyplot as plt\n",
    "\n",
    "plt.xlabel('True')\n",
    "plt.ylabel('Predicted')\n",
    "plt.scatter(train_output, np.dot(train_input,w) + b )\n",
    "plt.show()"
   ]
  }
 ],
 "metadata": {
  "kernelspec": {
   "display_name": "Python 3",
   "language": "python",
   "name": "python3"
  },
  "language_info": {
   "codemirror_mode": {
    "name": "ipython",
    "version": 3
   },
   "file_extension": ".py",
   "mimetype": "text/x-python",
   "name": "python",
   "nbconvert_exporter": "python",
   "pygments_lexer": "ipython3",
   "version": "3.7.1"
  }
 },
 "nbformat": 4,
 "nbformat_minor": 2
}
