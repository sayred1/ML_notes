{
 "cells": [
  {
   "cell_type": "markdown",
   "metadata": {},
   "source": [
    "# Multivariate Linear Regression Using Normal Equation\n",
    "\n",
    "## Attribute Information: http://archive.ics.uci.edu/ml/datasets/Airfoil+Self-Noise#\n",
    "\n",
    "### This problem has the following inputs: \n",
    "1. Frequency, in Hertzs. \n",
    "2. Angle of attack, in degrees. \n",
    "3. Chord length, in meters. \n",
    "4. Free-stream velocity, in meters per second. \n",
    "5. Suction side displacement thickness, in meters. \n",
    "\n",
    "### Output: \n",
    "6. Scaled sound pressure level, in decibels. "
   ]
  },
  {
   "cell_type": "code",
   "execution_count": 1,
   "metadata": {},
   "outputs": [],
   "source": [
    "import numpy as np\n",
    "from numpy.linalg import inv\n",
    "\n",
    "num_train_examples = 1502\n",
    "train_input = np.loadtxt('airfoil_self_noise.dat',float,usecols=(0,1,2,3,4))[0:num_train_examples]\n",
    "train_output = np.loadtxt('airfoil_self_noise.dat',float,usecols=(5))[0:num_train_examples]"
   ]
  },
  {
   "cell_type": "code",
   "execution_count": 2,
   "metadata": {},
   "outputs": [],
   "source": [
    "# last example as test\n",
    "test_input = np.loadtxt('airfoil_self_noise.dat',float,usecols=(0,1,2,3,4))[-1]\n",
    "test_output = np.loadtxt('airfoil_self_noise.dat',float,usecols=(5))[-1]"
   ]
  },
  {
   "cell_type": "code",
   "execution_count": 3,
   "metadata": {},
   "outputs": [],
   "source": [
    "def normal_equation(x,y):\n",
    "    theta = np.dot(inv(np.dot(np.transpose(x),x)),np.dot(np.transpose(x),y))\n",
    "    return theta\n",
    "\n",
    "def hypothesis(x,w,b):\n",
    "    n = x.shape[0]\n",
    "    h = 0\n",
    "    for i in range(n):\n",
    "        h += x[i]*w[i]\n",
    "    return(h+b)\n",
    "        \n",
    "def avg_loss(x,y,theta): # we want to minimize this loss\n",
    "    m = x.shape[0]\n",
    "    hypothesis = x.dot(theta.transpose())\n",
    "    return (hypothesis,(1/(2.0*m))*((np.square(hypothesis-y)).sum(axis=0)))\n",
    "\n",
    "def train(x,y):\n",
    "    theta = normal_equation(x,y)\n",
    "    hypothesis, loss = avg_loss(x,y,theta)\n",
    "    return(theta)"
   ]
  },
  {
   "cell_type": "code",
   "execution_count": 4,
   "metadata": {},
   "outputs": [],
   "source": [
    "train_input = np.insert(train_input,0,np.ones(num_train_examples),axis=1) # add bias to features\n",
    "theta = train(train_input,train_output) # trained parameters that give smallest cost function"
   ]
  },
  {
   "cell_type": "code",
   "execution_count": 5,
   "metadata": {},
   "outputs": [
    {
     "name": "stdout",
     "output_type": "stream",
     "text": [
      "(6,) (6,)\n",
      "110.78991381354915\n",
      "104.204\n"
     ]
    }
   ],
   "source": [
    "# fix print statement\n",
    "test_input = np.insert(test_input,0,1,axis=0)\n",
    "print(test_input.shape,theta.shape)\n",
    "prediction = test_input.dot(theta.transpose())\n",
    "print(prediction)\n",
    "print(test_output)"
   ]
  },
  {
   "cell_type": "code",
   "execution_count": null,
   "metadata": {},
   "outputs": [],
   "source": []
  }
 ],
 "metadata": {
  "kernelspec": {
   "display_name": "Python 3",
   "language": "python",
   "name": "python3"
  },
  "language_info": {
   "codemirror_mode": {
    "name": "ipython",
    "version": 3
   },
   "file_extension": ".py",
   "mimetype": "text/x-python",
   "name": "python",
   "nbconvert_exporter": "python",
   "pygments_lexer": "ipython3",
   "version": "3.7.1"
  }
 },
 "nbformat": 4,
 "nbformat_minor": 2
}
