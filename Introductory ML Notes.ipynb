{
 "cells": [
  {
   "cell_type": "markdown",
   "metadata": {},
   "source": [
    "# Introduction to Machine Learning (ML)"
   ]
  },
  {
   "cell_type": "markdown",
   "metadata": {},
   "source": [
    "### ML is a subfield of Artificial Intelligence (AI)\n",
    "- construction and study of systems that learn from data\n",
    "- computer of prediction of the unknown\n",
    "- programs with no predefined strategy (tic-tac-toe algorithms usually have predefined strategies)\n",
    "- extraction of knowledge from data\n",
    "\n",
    "### Useful terminology\n",
    "- Vector Feature: n-dim vector of numerical features that represents an object\n",
    "- Samples: items for the ML scheme to process\n",
    "- Feature Space: collection of features that characterize the data \n",
    "- Labeled Data: samples with known classification results.\n",
    "\n",
    "### ML split into 3 categories\n",
    "- supervised learning: training over well labeled data, when the data already is already correctly labeled\n",
    "- unsupervised learning: training w/ data that has no corresponding labels\n",
    "- reinforcement learning: training over unlabeled data with graded outputs \n"
   ]
  },
  {
   "cell_type": "markdown",
   "metadata": {},
   "source": [
    "## ML Application\n",
    "- speech recognition using automatic speec recognition\n",
    "- effective web search\n",
    "- recommendation systems\n",
    "- computer vision (CNN) \n",
    "- info retrieval (GNN/GCN)\n",
    "- fraud detection \n",
    "- picture annotation"
   ]
  },
  {
   "cell_type": "markdown",
   "metadata": {},
   "source": [
    "## Some ML algorithms\n",
    "\n",
    "### Neural Networks\n",
    "- ML technique designed based off of neurons in the human brain\n",
    "- Deep learning: use of a multi-layer NN\n",
    "- voice recognition, NLP, and translation\n",
    "- google uses 30 NNs\n",
    "\n",
    "### Regression\n",
    "- predicting a continuous-values output\n",
    "- uses the linear regression algorithm \n",
    "\n",
    "### Clustering\n",
    "- grouping of similar objects into sets (clusters)\n",
    "- k-means clustering\n",
    "\n",
    "### Colaborative filtering\n",
    "- fills in missing entries of a user-item association matrix\n",
    "- netflix\n",
    "- alternating least squares algorithm\n",
    "\n",
    "### Dimensionality reduction \n",
    "- reducing number of redundant features\n",
    "- uses the principal componant analysis algorithm\n",
    "- fitting an n-dim ellipsiod to the data"
   ]
  },
  {
   "cell_type": "code",
   "execution_count": null,
   "metadata": {},
   "outputs": [],
   "source": []
  }
 ],
 "metadata": {
  "kernelspec": {
   "display_name": "Python 3",
   "language": "python",
   "name": "python3"
  },
  "language_info": {
   "codemirror_mode": {
    "name": "ipython",
    "version": 3
   },
   "file_extension": ".py",
   "mimetype": "text/x-python",
   "name": "python",
   "nbconvert_exporter": "python",
   "pygments_lexer": "ipython3",
   "version": "3.7.1"
  }
 },
 "nbformat": 4,
 "nbformat_minor": 2
}
